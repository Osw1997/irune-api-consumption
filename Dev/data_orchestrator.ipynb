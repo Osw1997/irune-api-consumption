{
 "cells": [
  {
   "cell_type": "markdown",
   "metadata": {},
   "source": [
    "# Data loader"
   ]
  },
  {
   "cell_type": "code",
   "execution_count": 9,
   "metadata": {},
   "outputs": [],
   "source": [
    "from DataConsumer.comtrade_consumer import ComtradeConsumer\n",
    "from DataConsumer.wits_consumer import WitsConsumer\n",
    "\n",
    "from xml.dom.minidom import parse, parseString"
   ]
  },
  {
   "cell_type": "markdown",
   "metadata": {},
   "source": [
    "## HHI"
   ]
  },
  {
   "cell_type": "markdown",
   "metadata": {},
   "source": [
    "#### It's necessary to query all the country availables and then iterate each combination (year, country) for getting all HHI values"
   ]
  },
  {
   "cell_type": "code",
   "execution_count": 5,
   "metadata": {},
   "outputs": [],
   "source": [
    "wc = WitsConsumer()"
   ]
  },
  {
   "cell_type": "code",
   "execution_count": 6,
   "metadata": {},
   "outputs": [],
   "source": [
    "year = list(range(2000, 2021))"
   ]
  },
  {
   "cell_type": "code",
   "execution_count": 8,
   "metadata": {},
   "outputs": [
    {
     "data": {
      "text/plain": [
       "'ï'"
      ]
     },
     "execution_count": 8,
     "metadata": {},
     "output_type": "execute_result"
    }
   ],
   "source": [
    "list_iso3_codes = wc.get_list_iso3codes();"
   ]
  },
  {
   "cell_type": "code",
   "execution_count": 15,
   "metadata": {},
   "outputs": [
    {
     "data": {
      "text/plain": [
       "'<?xml v'"
      ]
     },
     "execution_count": 15,
     "metadata": {},
     "output_type": "execute_result"
    }
   ],
   "source": [
    "list_iso3_codes[3:10]"
   ]
  },
  {
   "cell_type": "code",
   "execution_count": 17,
   "metadata": {},
   "outputs": [],
   "source": [
    "s = parseString(list_iso3_codes[3:])"
   ]
  },
  {
   "cell_type": "code",
   "execution_count": 21,
   "metadata": {},
   "outputs": [],
   "source": [
    "list_xml_countries = s.getElementsByTagName(\"wits:country\")"
   ]
  },
  {
   "cell_type": "code",
   "execution_count": 23,
   "metadata": {},
   "outputs": [
    {
     "data": {
      "text/plain": [
       "['ATTRIBUTE_NODE',\n",
       " 'CDATA_SECTION_NODE',\n",
       " 'COMMENT_NODE',\n",
       " 'DOCUMENT_FRAGMENT_NODE',\n",
       " 'DOCUMENT_NODE',\n",
       " 'DOCUMENT_TYPE_NODE',\n",
       " 'ELEMENT_NODE',\n",
       " 'ENTITY_NODE',\n",
       " 'ENTITY_REFERENCE_NODE',\n",
       " 'NOTATION_NODE',\n",
       " 'PROCESSING_INSTRUCTION_NODE',\n",
       " 'TEXT_NODE',\n",
       " '__bool__',\n",
       " '__class__',\n",
       " '__delattr__',\n",
       " '__dict__',\n",
       " '__dir__',\n",
       " '__doc__',\n",
       " '__enter__',\n",
       " '__eq__',\n",
       " '__exit__',\n",
       " '__format__',\n",
       " '__ge__',\n",
       " '__getattribute__',\n",
       " '__gt__',\n",
       " '__hash__',\n",
       " '__init__',\n",
       " '__init_subclass__',\n",
       " '__le__',\n",
       " '__lt__',\n",
       " '__module__',\n",
       " '__ne__',\n",
       " '__new__',\n",
       " '__reduce__',\n",
       " '__reduce_ex__',\n",
       " '__repr__',\n",
       " '__setattr__',\n",
       " '__sizeof__',\n",
       " '__slots__',\n",
       " '__str__',\n",
       " '__subclasshook__',\n",
       " '__weakref__',\n",
       " '_attrs',\n",
       " '_attrsNS',\n",
       " '_call_user_data_handler',\n",
       " '_child_node_types',\n",
       " '_ensure_attributes',\n",
       " '_get_attributes',\n",
       " '_get_childNodes',\n",
       " '_get_firstChild',\n",
       " '_get_lastChild',\n",
       " '_get_localName',\n",
       " '_get_tagName',\n",
       " '_localName',\n",
       " '_magic_id_nodes',\n",
       " 'appendChild',\n",
       " 'attributes',\n",
       " 'childNodes',\n",
       " 'cloneNode',\n",
       " 'firstChild',\n",
       " 'getAttribute',\n",
       " 'getAttributeNS',\n",
       " 'getAttributeNode',\n",
       " 'getAttributeNodeNS',\n",
       " 'getElementsByTagName',\n",
       " 'getElementsByTagNameNS',\n",
       " 'getInterface',\n",
       " 'getUserData',\n",
       " 'hasAttribute',\n",
       " 'hasAttributeNS',\n",
       " 'hasAttributes',\n",
       " 'hasChildNodes',\n",
       " 'insertBefore',\n",
       " 'isSameNode',\n",
       " 'isSupported',\n",
       " 'lastChild',\n",
       " 'localName',\n",
       " 'namespaceURI',\n",
       " 'nextSibling',\n",
       " 'nodeName',\n",
       " 'nodeType',\n",
       " 'nodeValue',\n",
       " 'normalize',\n",
       " 'ownerDocument',\n",
       " 'parentNode',\n",
       " 'prefix',\n",
       " 'previousSibling',\n",
       " 'removeAttribute',\n",
       " 'removeAttributeNS',\n",
       " 'removeAttributeNode',\n",
       " 'removeAttributeNodeNS',\n",
       " 'removeChild',\n",
       " 'replaceChild',\n",
       " 'schemaType',\n",
       " 'setAttribute',\n",
       " 'setAttributeNS',\n",
       " 'setAttributeNode',\n",
       " 'setAttributeNodeNS',\n",
       " 'setIdAttribute',\n",
       " 'setIdAttributeNS',\n",
       " 'setIdAttributeNode',\n",
       " 'setUserData',\n",
       " 'tagName',\n",
       " 'toprettyxml',\n",
       " 'toxml',\n",
       " 'unlink',\n",
       " 'writexml']"
      ]
     },
     "execution_count": 23,
     "metadata": {},
     "output_type": "execute_result"
    }
   ],
   "source": [
    "dir(list_xml_countries[0])"
   ]
  },
  {
   "cell_type": "code",
   "execution_count": 27,
   "metadata": {},
   "outputs": [
    {
     "data": {
      "text/plain": [
       "3"
      ]
     },
     "execution_count": 27,
     "metadata": {},
     "output_type": "execute_result"
    }
   ],
   "source": [
    "list_xml_countries[0].getElementsByTagName(\"wits:name\")[0].TEXT_NODE"
   ]
  }
 ],
 "metadata": {
  "interpreter": {
   "hash": "37dc34e2af924fcbb7135e17aad6d401bef8cfad7f13e06a4fd95d240c119378"
  },
  "kernelspec": {
   "display_name": "Python 3.7.4 64-bit ('rubrix_venv': venv)",
   "language": "python",
   "name": "python3"
  },
  "language_info": {
   "codemirror_mode": {
    "name": "ipython",
    "version": 3
   },
   "file_extension": ".py",
   "mimetype": "text/x-python",
   "name": "python",
   "nbconvert_exporter": "python",
   "pygments_lexer": "ipython3",
   "version": "3.7.4"
  },
  "orig_nbformat": 4
 },
 "nbformat": 4,
 "nbformat_minor": 2
}
