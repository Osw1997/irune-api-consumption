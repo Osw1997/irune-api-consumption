{
 "cells": [
  {
   "cell_type": "code",
   "execution_count": 1,
   "metadata": {},
   "outputs": [],
   "source": [
    "from geopol_client import GeopolriskConsumer"
   ]
  },
  {
   "cell_type": "code",
   "execution_count": 2,
   "metadata": {},
   "outputs": [],
   "source": [
    "gprc = GeopolriskConsumer()"
   ]
  },
  {
   "cell_type": "code",
   "execution_count": 4,
   "metadata": {},
   "outputs": [
    {
     "data": {
      "text/plain": [
       "'c:\\\\Users\\\\zacat\\\\OneDrive\\\\Documentos\\\\irune-api-consumption\\\\Dev'"
      ]
     },
     "execution_count": 4,
     "metadata": {},
     "output_type": "execute_result"
    }
   ],
   "source": [
    "import os\n",
    "os.getcwd()"
   ]
  },
  {
   "cell_type": "code",
   "execution_count": 6,
   "metadata": {},
   "outputs": [],
   "source": [
    "# Format (country, product, year)\n",
    "list_parameters = [\n",
    "    (\"Canada\", \"Lithium\", 2019),\n",
    "    (\"Mexico\", \"Petroleum\", 2019),\n",
    "    (\"USA\", \"Gold\", 2020)\n",
    "]\n",
    "\n",
    "# list_parameters = [\n",
    "#     (\"Canada\", \"Lithium\", 2010),\n",
    "#     (\"Canada\", \"Lithium\", 2011),\n",
    "#     (\"Canada\", \"Lithium\", 2012),\n",
    "#     (\"Canada\", \"Lithium\", 2013),\n",
    "#     (\"Canada\", \"Lithium\", 2014),\n",
    "#     (\"Canada\", \"Lithium\", 2015),\n",
    "#     (\"Canada\", \"Lithium\", 2016),\n",
    "#     (\"Canada\", \"Lithium\", 2017),\n",
    "#     (\"Canada\", \"Lithium\", 2018),\n",
    "#     (\"Canada\", \"Lithium\", 2019),\n",
    "#     (\"Canada\", \"Lithium\", 2020),\n",
    "# ]\n",
    "\n",
    "# list_parameters = [\n",
    "#     # (\"Canada\", \"Lithium\", 2015),\n",
    "#     (\"USA\", \"Lithium\", 2015),\n",
    "#     # (\"Mexico\", \"Lithium\", 2019)\n",
    "# ]"
   ]
  },
  {
   "cell_type": "code",
   "execution_count": 7,
   "metadata": {},
   "outputs": [],
   "source": [
    "total_result_df, total_condensed_result_df = gprc.get_geopol_risk(list_parameters)"
   ]
  },
  {
   "cell_type": "code",
   "execution_count": 8,
   "metadata": {},
   "outputs": [],
   "source": [
    "total_result_df.to_csv(\"../data/results/resultados_desglose.csv\")"
   ]
  },
  {
   "cell_type": "code",
   "execution_count": 9,
   "metadata": {},
   "outputs": [],
   "source": [
    "total_condensed_result_df.to_csv(\"../data/results/resultados_condensado.csv\")"
   ]
  }
 ],
 "metadata": {
  "interpreter": {
   "hash": "6eab6906dba4be0d3a1321c65c8ea47241a10620a5101596545cb228dc608357"
  },
  "kernelspec": {
   "display_name": "Python 3.7.4 64-bit",
   "language": "python",
   "name": "python3"
  },
  "language_info": {
   "codemirror_mode": {
    "name": "ipython",
    "version": 3
   },
   "file_extension": ".py",
   "mimetype": "text/x-python",
   "name": "python",
   "nbconvert_exporter": "python",
   "pygments_lexer": "ipython3",
   "version": "3.7.4"
  },
  "orig_nbformat": 4
 },
 "nbformat": 4,
 "nbformat_minor": 2
}
