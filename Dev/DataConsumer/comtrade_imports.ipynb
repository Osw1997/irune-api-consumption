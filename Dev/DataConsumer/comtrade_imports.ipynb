{
 "cells": [
  {
   "cell_type": "code",
   "execution_count": 2,
   "metadata": {},
   "outputs": [],
   "source": [
    "import pandas as pd\n",
    "import requests\n",
    "import time\n",
    "import os\n",
    "import json"
   ]
  },
  {
   "cell_type": "code",
   "execution_count": 3,
   "metadata": {},
   "outputs": [
    {
     "data": {
      "text/plain": [
       "117922"
      ]
     },
     "execution_count": 3,
     "metadata": {},
     "output_type": "execute_result"
    }
   ],
   "source": [
    "# read all downloaded files\n",
    "list_files = os.listdir(\"../../data/imports\")\n",
    "list_files = [tuple(x.split(\".csv\")[0].split(\"_\")[1:]) for x in list_files]\n",
    "list_files = set(list_files)\n",
    "len(list_files)"
   ]
  },
  {
   "cell_type": "code",
   "execution_count": 5,
   "metadata": {},
   "outputs": [],
   "source": [
    "df_exports = pd.read_csv(\"../../data/hhi_data/df_hhi_exports.csv\")\n",
    "countries_list = json.loads(df_exports[[\"reporterCode\", \"reporterDesc\"]].drop_duplicates().to_json(orient='records')) #columns, split, records\n",
    "\n",
    "classification_codes = {\n",
    "    \"Antimony\": 261710,\n",
    "    \"Asbestos\": 2524,\n",
    "    \"Barytes\": 2511,\n",
    "    \"Bismuth\": 8106,\n",
    "    \"Cadmium\": 8107,\n",
    "    \"Chromium\": 2610,\n",
    "    \"Coal\": 2701,\n",
    "    \"Cobalt\": 810520,\n",
    "    \"Copper\": 2603,\n",
    "    \"Gold\": 7108,\n",
    "    \"Graphite\": 2504,\n",
    "    \"Iron\": 2601,\n",
    "    \"Lead\": 2607,\n",
    "    \"Lithium\": 283691,\n",
    "    \"Magnesite\": 251910,\n",
    "    \"Magnesium\": 251910,\n",
    "    \"Manganese\": 2602,\n",
    "    \"Mercury\": 280540,\n",
    "    \"Molybdenum\": 2613,\n",
    "    \"Natural gas\": 271111,\n",
    "    \"Nickel\": 2604,\n",
    "    \"Petroleum\": 2709,\n",
    "    \"Rare earth\": 2846,\n",
    "    \"Silver\": 261610,\n",
    "    \"Tin\": 2609,\n",
    "    \"Titanium\": 2614,\n",
    "    \"Tungsten\": 2611,\n",
    "    \"Uranium\": 261210,\n",
    "    \"Zinc\": 2608,\n",
    "    \"Zirconium\": 261510,\n",
    "    \"Lithium-ion batteries\": 850760 # igual que Litio?\n",
    "}\n",
    "classification_codes = {key.upper(): val for key, val in classification_codes.items()}\n",
    "classification_codes_inverted = {val: key.upper() for key, val in classification_codes.items()}\n",
    "\n",
    "years = range(2000, 2021)"
   ]
  },
  {
   "cell_type": "code",
   "execution_count": 6,
   "metadata": {},
   "outputs": [
    {
     "data": {
      "text/plain": [
       "124992"
      ]
     },
     "execution_count": 6,
     "metadata": {},
     "output_type": "execute_result"
    }
   ],
   "source": [
    "# Get all possible combinations\n",
    "\n",
    "\n",
    "possible_list_files = list()\n",
    "\n",
    "for year in years:\n",
    "    for commodity, commodity_code in classification_codes.items():\n",
    "        for country in countries_list:\n",
    "            possible_list_files.append((f'{year}', commodity, country['reporterDesc']))\n",
    "\n",
    "possible_list_files = set(possible_list_files)\n",
    "len(possible_list_files)\n"
   ]
  },
  {
   "cell_type": "code",
   "execution_count": 7,
   "metadata": {},
   "outputs": [
    {
     "data": {
      "text/plain": [
       "7070"
      ]
     },
     "execution_count": 7,
     "metadata": {},
     "output_type": "execute_result"
    }
   ],
   "source": [
    "# get rest of files to download\n",
    "files_to_download = list(possible_list_files - list_files)\n",
    "len(files_to_download)"
   ]
  },
  {
   "cell_type": "code",
   "execution_count": 14,
   "metadata": {},
   "outputs": [],
   "source": [
    "# Save total files into 4 equal parts\n",
    "import pickle\n",
    "indx = 0\n",
    "size_list = len(files_to_download) // 4\n",
    "for i in range(0, len(files_to_download), size_list):\n",
    "    with open(f\"list_files/files_to_download_{indx}.txt\", \"wb\") as fp:\n",
    "        pickle.dump(files_to_download[i:i + size_list], fp)\n",
    "    indx += 1"
   ]
  },
  {
   "cell_type": "markdown",
   "metadata": {},
   "source": [
    "### Get distinct countries/codes in the export file"
   ]
  },
  {
   "cell_type": "code",
   "execution_count": 2,
   "metadata": {},
   "outputs": [
    {
     "name": "stdout",
     "output_type": "stream",
     "text": [
      "Len of list 0:  3\n"
     ]
    }
   ],
   "source": [
    "import pickle\n",
    "# Read n-list\n",
    "indx = 4\n",
    "with open(f\"list_files/files_to_download_{indx}.txt\", \"rb\") as fp:\n",
    "    sublist_files_to_download = pickle.load(fp)\n",
    "\n",
    "print(\"Len of list 0: \", len(sublist_files_to_download))\n",
    "\n",
    "\n",
    "# indx = 3\n",
    "# with open(f\"list_files/files_to_download_{indx}.txt\", \"rb\") as fp:\n",
    "#     sublist_files_to_download += pickle.load(fp)\n",
    "\n",
    "# print(\"Len of list [0] + [1]: \", len(sublist_files_to_download))\n"
   ]
  },
  {
   "cell_type": "code",
   "execution_count": 8,
   "metadata": {},
   "outputs": [],
   "source": [
    "# classification_codes[\"INDIA\"]\n",
    "def get_country_code(country):\n",
    "    for country_info in countries_list:\n",
    "        if country.upper() == country_info[\"reporterDesc\"].upper():\n",
    "            return country_info[\"reporterCode\"]\n",
    "    return -1"
   ]
  },
  {
   "cell_type": "code",
   "execution_count": 9,
   "metadata": {},
   "outputs": [
    {
     "name": "stdout",
     "output_type": "stream",
     "text": [
      "[ERROR][United Kingdom][2014][850760] Request: 'data'\n",
      "[ERROR][Jamaica][2011][850760] Request: 'data'\n",
      "[ERROR][Malta][2019][850760] Request: 'data'\n",
      "[ERROR][Mauritius][2009][850760] Request: 'data'\n",
      "[ERROR][Jordan][2004][850760] Request: 'data'\n",
      "[ERROR][Greece][2013][850760] Request: 'data'\n",
      "[ERROR][India][2016][850760] Request: 'data'\n",
      "[ERROR][Mauritania][2000][850760] Request: 'data'\n",
      "[ERROR][Spain][2011][850760] Request: 'data'\n",
      "[ERROR][Eswatini][2002][850760] Request: 'data'\n"
     ]
    }
   ],
   "source": [
    "# Only for last step\n",
    "sublist_files_to_download = files_to_download\n",
    "\n",
    "for year, commodity, country in sublist_files_to_download:\n",
    "    try:\n",
    "        country_code = get_country_code(country)\n",
    "        url = f\"https://comtradeplus.un.org/api/Trade/getTrade?\" \\\n",
    "                f\"selectedProductOptionsModified=C&\" \\\n",
    "                f\"selectedFrequencyOptionsModified=A&\" \\\n",
    "                f\"selectedClassificationOptionsModified=HS&\" \\\n",
    "                f\"selectValuePeriodsModified={year}&\" \\\n",
    "                f\"selectValueReportersModified={country_code}&\" \\\n",
    "                f\"selectValuePartnersModified=all&\" \\\n",
    "                f\"selectValueTradeflowsModified=m&\" \\\n",
    "                f\"selectValueCommodityCodesModified={classification_codes[commodity]}&\" \\\n",
    "                f\"selectValueCustomsCodesModified=c00&\" \\\n",
    "                f\"selectValueTransportCodesModified=0&\" \\\n",
    "                f\"selectValueSecondPartnersModified=0&\" \\\n",
    "                f\"selectValueAggregateByModified=none&\" \\\n",
    "                f\"selectValueBreakdownModeModified=plus&\" \\\n",
    "                f\"selectValueincludeDescModified=True&\" \\\n",
    "                f\"selectValuecountOnlyModified=False\"\n",
    "        \n",
    "        payload={}\n",
    "        headers = {\n",
    "            'Accept': 'application/json, text/plain, */*',\n",
    "            'Referer': f'https://comtradeplus.un.org/TradeFlow?Frequency=A&Flows=X&CommodityCodes={classification_codes[commodity]}&Partners=0&Reporters=all&period={year}&AggregateBy=none&BreakdownMode=plus'\n",
    "        }\n",
    "\n",
    "        try:\n",
    "            response = requests.get(url=url, headers=headers, data=payload)\n",
    "            json = response.json()\n",
    "            pd.json_normalize(json[\"data\"]).to_csv(f\"../../data/imports/imports_{year}_{commodity}_{country}.csv\", index=False)\n",
    "        except Exception as e:\n",
    "            print(f\"[ERROR][{country}][{year}][{commodity_code}] Request: {e}\")\n",
    "\n",
    "    except Exception as e:\n",
    "        print(f\"[ERROR][TOP] {year}, {commodity}, {commodity_code}, {country}: [{e}]\")\n",
    "\n",
    "    # time.sleep(3)\n",
    "        "
   ]
  },
  {
   "cell_type": "code",
   "execution_count": 4,
   "metadata": {},
   "outputs": [
    {
     "name": "stdout",
     "output_type": "stream",
     "text": [
      "[ERROR][2003][261710] Request: 'data'\n",
      "[ERROR][2010][2604] Request: 'data'\n",
      "[ERROR][2010][2604] Request: 'data'\n",
      "[ERROR][2015][2611] Request: HTTPSConnectionPool(host='comtradeplus.un.org', port=443): Max retries exceeded with url: /api/Trade/getTrade?selectedProductOptionsModified=C&selectedFrequencyOptionsModified=A&selectedClassificationOptionsModified=HS&selectValuePeriodsModified=2015&selectValueReportersModified=251&selectValuePartnersModified=all&selectValueTradeflowsModified=m&selectValueCommodityCodesModified=2611&selectValueCustomsCodesModified=c00&selectValueTransportCodesModified=0&selectValueSecondPartnersModified=0&selectValueAggregateByModified=none&selectValueBreakdownModeModified=plus&selectValueincludeDescModified=True&selectValuecountOnlyModified=False (Caused by NewConnectionError('<urllib3.connection.HTTPSConnection object at 0x00000261797EAFC8>: Failed to establish a new connection: [WinError 10060] Se produjo un error durante el intento de conexión ya que la parte conectada no respondió adecuadamente tras un periodo de tiempo, o bien se produjo un error en la conexión establecida ya que el host conectado no ha podido responder'))\n",
      "[ERROR][2016][251910] Request: HTTPSConnectionPool(host='comtradeplus.un.org', port=443): Max retries exceeded with url: /api/Trade/getTrade?selectedProductOptionsModified=C&selectedFrequencyOptionsModified=A&selectedClassificationOptionsModified=HS&selectValuePeriodsModified=2016&selectValueReportersModified=251&selectValuePartnersModified=all&selectValueTradeflowsModified=m&selectValueCommodityCodesModified=251910&selectValueCustomsCodesModified=c00&selectValueTransportCodesModified=0&selectValueSecondPartnersModified=0&selectValueAggregateByModified=none&selectValueBreakdownModeModified=plus&selectValueincludeDescModified=True&selectValuecountOnlyModified=False (Caused by NewConnectionError('<urllib3.connection.HTTPSConnection object at 0x00000261798C9348>: Failed to establish a new connection: [WinError 10060] Se produjo un error durante el intento de conexión ya que la parte conectada no respondió adecuadamente tras un periodo de tiempo, o bien se produjo un error en la conexión establecida ya que el host conectado no ha podido responder'))\n",
      "[ERROR][2016][2602] Request: HTTPSConnectionPool(host='comtradeplus.un.org', port=443): Max retries exceeded with url: /api/Trade/getTrade?selectedProductOptionsModified=C&selectedFrequencyOptionsModified=A&selectedClassificationOptionsModified=HS&selectValuePeriodsModified=2016&selectValueReportersModified=251&selectValuePartnersModified=all&selectValueTradeflowsModified=m&selectValueCommodityCodesModified=2602&selectValueCustomsCodesModified=c00&selectValueTransportCodesModified=0&selectValueSecondPartnersModified=0&selectValueAggregateByModified=none&selectValueBreakdownModeModified=plus&selectValueincludeDescModified=True&selectValuecountOnlyModified=False (Caused by NewConnectionError('<urllib3.connection.HTTPSConnection object at 0x000002617989FB08>: Failed to establish a new connection: [WinError 10060] Se produjo un error durante el intento de conexión ya que la parte conectada no respondió adecuadamente tras un periodo de tiempo, o bien se produjo un error en la conexión establecida ya que el host conectado no ha podido responder'))\n",
      "[ERROR][2017][2610] Request: HTTPSConnectionPool(host='comtradeplus.un.org', port=443): Max retries exceeded with url: /api/Trade/getTrade?selectedProductOptionsModified=C&selectedFrequencyOptionsModified=A&selectedClassificationOptionsModified=HS&selectValuePeriodsModified=2017&selectValueReportersModified=251&selectValuePartnersModified=all&selectValueTradeflowsModified=m&selectValueCommodityCodesModified=2610&selectValueCustomsCodesModified=c00&selectValueTransportCodesModified=0&selectValueSecondPartnersModified=0&selectValueAggregateByModified=none&selectValueBreakdownModeModified=plus&selectValueincludeDescModified=True&selectValuecountOnlyModified=False (Caused by NewConnectionError('<urllib3.connection.HTTPSConnection object at 0x00000261798A4308>: Failed to establish a new connection: [WinError 10060] Se produjo un error durante el intento de conexión ya que la parte conectada no respondió adecuadamente tras un periodo de tiempo, o bien se produjo un error en la conexión establecida ya que el host conectado no ha podido responder'))\n",
      "[ERROR][2017][2701] Request: HTTPSConnectionPool(host='comtradeplus.un.org', port=443): Max retries exceeded with url: /api/Trade/getTrade?selectedProductOptionsModified=C&selectedFrequencyOptionsModified=A&selectedClassificationOptionsModified=HS&selectValuePeriodsModified=2017&selectValueReportersModified=251&selectValuePartnersModified=all&selectValueTradeflowsModified=m&selectValueCommodityCodesModified=2701&selectValueCustomsCodesModified=c00&selectValueTransportCodesModified=0&selectValueSecondPartnersModified=0&selectValueAggregateByModified=none&selectValueBreakdownModeModified=plus&selectValueincludeDescModified=True&selectValuecountOnlyModified=False (Caused by NewConnectionError('<urllib3.connection.HTTPSConnection object at 0x00000261798A6DC8>: Failed to establish a new connection: [Errno 11001] getaddrinfo failed'))\n",
      "[ERROR][2017][810520] Request: HTTPSConnectionPool(host='comtradeplus.un.org', port=443): Max retries exceeded with url: /api/Trade/getTrade?selectedProductOptionsModified=C&selectedFrequencyOptionsModified=A&selectedClassificationOptionsModified=HS&selectValuePeriodsModified=2017&selectValueReportersModified=251&selectValuePartnersModified=all&selectValueTradeflowsModified=m&selectValueCommodityCodesModified=810520&selectValueCustomsCodesModified=c00&selectValueTransportCodesModified=0&selectValueSecondPartnersModified=0&selectValueAggregateByModified=none&selectValueBreakdownModeModified=plus&selectValueincludeDescModified=True&selectValuecountOnlyModified=False (Caused by NewConnectionError('<urllib3.connection.HTTPSConnection object at 0x0000026179894588>: Failed to establish a new connection: [Errno 11001] getaddrinfo failed'))\n",
      "[ERROR][2017][2603] Request: HTTPSConnectionPool(host='comtradeplus.un.org', port=443): Max retries exceeded with url: /api/Trade/getTrade?selectedProductOptionsModified=C&selectedFrequencyOptionsModified=A&selectedClassificationOptionsModified=HS&selectValuePeriodsModified=2017&selectValueReportersModified=251&selectValuePartnersModified=all&selectValueTradeflowsModified=m&selectValueCommodityCodesModified=2603&selectValueCustomsCodesModified=c00&selectValueTransportCodesModified=0&selectValueSecondPartnersModified=0&selectValueAggregateByModified=none&selectValueBreakdownModeModified=plus&selectValueincludeDescModified=True&selectValuecountOnlyModified=False (Caused by NewConnectionError('<urllib3.connection.HTTPSConnection object at 0x00000261798A6FC8>: Failed to establish a new connection: [Errno 11001] getaddrinfo failed'))\n",
      "[ERROR][2017][7108] Request: HTTPSConnectionPool(host='comtradeplus.un.org', port=443): Max retries exceeded with url: /api/Trade/getTrade?selectedProductOptionsModified=C&selectedFrequencyOptionsModified=A&selectedClassificationOptionsModified=HS&selectValuePeriodsModified=2017&selectValueReportersModified=251&selectValuePartnersModified=all&selectValueTradeflowsModified=m&selectValueCommodityCodesModified=7108&selectValueCustomsCodesModified=c00&selectValueTransportCodesModified=0&selectValueSecondPartnersModified=0&selectValueAggregateByModified=none&selectValueBreakdownModeModified=plus&selectValueincludeDescModified=True&selectValuecountOnlyModified=False (Caused by NewConnectionError('<urllib3.connection.HTTPSConnection object at 0x00000261798C96C8>: Failed to establish a new connection: [Errno 11001] getaddrinfo failed'))\n",
      "[ERROR][2017][2504] Request: HTTPSConnectionPool(host='comtradeplus.un.org', port=443): Max retries exceeded with url: /api/Trade/getTrade?selectedProductOptionsModified=C&selectedFrequencyOptionsModified=A&selectedClassificationOptionsModified=HS&selectValuePeriodsModified=2017&selectValueReportersModified=251&selectValuePartnersModified=all&selectValueTradeflowsModified=m&selectValueCommodityCodesModified=2504&selectValueCustomsCodesModified=c00&selectValueTransportCodesModified=0&selectValueSecondPartnersModified=0&selectValueAggregateByModified=none&selectValueBreakdownModeModified=plus&selectValueincludeDescModified=True&selectValuecountOnlyModified=False (Caused by NewConnectionError('<urllib3.connection.HTTPSConnection object at 0x00000261798CD388>: Failed to establish a new connection: [Errno 11001] getaddrinfo failed'))\n",
      "[ERROR][2017][2601] Request: HTTPSConnectionPool(host='comtradeplus.un.org', port=443): Max retries exceeded with url: /api/Trade/getTrade?selectedProductOptionsModified=C&selectedFrequencyOptionsModified=A&selectedClassificationOptionsModified=HS&selectValuePeriodsModified=2017&selectValueReportersModified=251&selectValuePartnersModified=all&selectValueTradeflowsModified=m&selectValueCommodityCodesModified=2601&selectValueCustomsCodesModified=c00&selectValueTransportCodesModified=0&selectValueSecondPartnersModified=0&selectValueAggregateByModified=none&selectValueBreakdownModeModified=plus&selectValueincludeDescModified=True&selectValuecountOnlyModified=False (Caused by NewConnectionError('<urllib3.connection.HTTPSConnection object at 0x00000261798C9748>: Failed to establish a new connection: [Errno 11001] getaddrinfo failed'))\n",
      "[ERROR][2019][2524] Request: 'data'\n",
      "[ERROR][2001][2602] Request: ('Connection aborted.', ConnectionResetError(10054, 'Se ha forzado la interrupción de una conexión existente por el host remoto', None, 10054, None))\n",
      "[ERROR][2007][2614] Request: HTTPSConnectionPool(host='comtradeplus.un.org', port=443): Max retries exceeded with url: /api/Trade/getTrade?selectedProductOptionsModified=C&selectedFrequencyOptionsModified=A&selectedClassificationOptionsModified=HS&selectValuePeriodsModified=2007&selectValueReportersModified=276&selectValuePartnersModified=all&selectValueTradeflowsModified=m&selectValueCommodityCodesModified=2614&selectValueCustomsCodesModified=c00&selectValueTransportCodesModified=0&selectValueSecondPartnersModified=0&selectValueAggregateByModified=none&selectValueBreakdownModeModified=plus&selectValueincludeDescModified=True&selectValuecountOnlyModified=False (Caused by NewConnectionError('<urllib3.connection.HTTPSConnection object at 0x000002617989FAC8>: Failed to establish a new connection: [Errno 11001] getaddrinfo failed'))\n",
      "[ERROR][2007][2611] Request: HTTPSConnectionPool(host='comtradeplus.un.org', port=443): Max retries exceeded with url: /api/Trade/getTrade?selectedProductOptionsModified=C&selectedFrequencyOptionsModified=A&selectedClassificationOptionsModified=HS&selectValuePeriodsModified=2007&selectValueReportersModified=276&selectValuePartnersModified=all&selectValueTradeflowsModified=m&selectValueCommodityCodesModified=2611&selectValueCustomsCodesModified=c00&selectValueTransportCodesModified=0&selectValueSecondPartnersModified=0&selectValueAggregateByModified=none&selectValueBreakdownModeModified=plus&selectValueincludeDescModified=True&selectValuecountOnlyModified=False (Caused by NewConnectionError('<urllib3.connection.HTTPSConnection object at 0x000002617989F548>: Failed to establish a new connection: [Errno 11001] getaddrinfo failed'))\n",
      "[ERROR][2007][261210] Request: HTTPSConnectionPool(host='comtradeplus.un.org', port=443): Max retries exceeded with url: /api/Trade/getTrade?selectedProductOptionsModified=C&selectedFrequencyOptionsModified=A&selectedClassificationOptionsModified=HS&selectValuePeriodsModified=2007&selectValueReportersModified=276&selectValuePartnersModified=all&selectValueTradeflowsModified=m&selectValueCommodityCodesModified=261210&selectValueCustomsCodesModified=c00&selectValueTransportCodesModified=0&selectValueSecondPartnersModified=0&selectValueAggregateByModified=none&selectValueBreakdownModeModified=plus&selectValueincludeDescModified=True&selectValuecountOnlyModified=False (Caused by NewConnectionError('<urllib3.connection.HTTPSConnection object at 0x00000261798A1E08>: Failed to establish a new connection: [Errno 11001] getaddrinfo failed'))\n",
      "[ERROR][2007][2608] Request: HTTPSConnectionPool(host='comtradeplus.un.org', port=443): Max retries exceeded with url: /api/Trade/getTrade?selectedProductOptionsModified=C&selectedFrequencyOptionsModified=A&selectedClassificationOptionsModified=HS&selectValuePeriodsModified=2007&selectValueReportersModified=276&selectValuePartnersModified=all&selectValueTradeflowsModified=m&selectValueCommodityCodesModified=2608&selectValueCustomsCodesModified=c00&selectValueTransportCodesModified=0&selectValueSecondPartnersModified=0&selectValueAggregateByModified=none&selectValueBreakdownModeModified=plus&selectValueincludeDescModified=True&selectValuecountOnlyModified=False (Caused by NewConnectionError('<urllib3.connection.HTTPSConnection object at 0x000002617989F7C8>: Failed to establish a new connection: [Errno 11001] getaddrinfo failed'))\n",
      "[ERROR][2007][261510] Request: HTTPSConnectionPool(host='comtradeplus.un.org', port=443): Max retries exceeded with url: /api/Trade/getTrade?selectedProductOptionsModified=C&selectedFrequencyOptionsModified=A&selectedClassificationOptionsModified=HS&selectValuePeriodsModified=2007&selectValueReportersModified=276&selectValuePartnersModified=all&selectValueTradeflowsModified=m&selectValueCommodityCodesModified=261510&selectValueCustomsCodesModified=c00&selectValueTransportCodesModified=0&selectValueSecondPartnersModified=0&selectValueAggregateByModified=none&selectValueBreakdownModeModified=plus&selectValueincludeDescModified=True&selectValuecountOnlyModified=False (Caused by NewConnectionError('<urllib3.connection.HTTPSConnection object at 0x000002617989F548>: Failed to establish a new connection: [Errno 11001] getaddrinfo failed'))\n",
      "[ERROR][2007][850760] Request: HTTPSConnectionPool(host='comtradeplus.un.org', port=443): Max retries exceeded with url: /api/Trade/getTrade?selectedProductOptionsModified=C&selectedFrequencyOptionsModified=A&selectedClassificationOptionsModified=HS&selectValuePeriodsModified=2007&selectValueReportersModified=276&selectValuePartnersModified=all&selectValueTradeflowsModified=m&selectValueCommodityCodesModified=850760&selectValueCustomsCodesModified=c00&selectValueTransportCodesModified=0&selectValueSecondPartnersModified=0&selectValueAggregateByModified=none&selectValueBreakdownModeModified=plus&selectValueincludeDescModified=True&selectValuecountOnlyModified=False (Caused by NewConnectionError('<urllib3.connection.HTTPSConnection object at 0x0000026179888AC8>: Failed to establish a new connection: [Errno 11001] getaddrinfo failed'))\n",
      "[ERROR][2008][261710] Request: HTTPSConnectionPool(host='comtradeplus.un.org', port=443): Max retries exceeded with url: /api/Trade/getTrade?selectedProductOptionsModified=C&selectedFrequencyOptionsModified=A&selectedClassificationOptionsModified=HS&selectValuePeriodsModified=2008&selectValueReportersModified=276&selectValuePartnersModified=all&selectValueTradeflowsModified=m&selectValueCommodityCodesModified=261710&selectValueCustomsCodesModified=c00&selectValueTransportCodesModified=0&selectValueSecondPartnersModified=0&selectValueAggregateByModified=none&selectValueBreakdownModeModified=plus&selectValueincludeDescModified=True&selectValuecountOnlyModified=False (Caused by NewConnectionError('<urllib3.connection.HTTPSConnection object at 0x00000261798D2088>: Failed to establish a new connection: [Errno 11001] getaddrinfo failed'))\n",
      "[ERROR][2008][2524] Request: HTTPSConnectionPool(host='comtradeplus.un.org', port=443): Max retries exceeded with url: /api/Trade/getTrade?selectedProductOptionsModified=C&selectedFrequencyOptionsModified=A&selectedClassificationOptionsModified=HS&selectValuePeriodsModified=2008&selectValueReportersModified=276&selectValuePartnersModified=all&selectValueTradeflowsModified=m&selectValueCommodityCodesModified=2524&selectValueCustomsCodesModified=c00&selectValueTransportCodesModified=0&selectValueSecondPartnersModified=0&selectValueAggregateByModified=none&selectValueBreakdownModeModified=plus&selectValueincludeDescModified=True&selectValuecountOnlyModified=False (Caused by NewConnectionError('<urllib3.connection.HTTPSConnection object at 0x000002617989F348>: Failed to establish a new connection: [Errno 11001] getaddrinfo failed'))\n",
      "[ERROR][2009][280540] Request: HTTPSConnectionPool(host='comtradeplus.un.org', port=443): Max retries exceeded with url: /api/Trade/getTrade?selectedProductOptionsModified=C&selectedFrequencyOptionsModified=A&selectedClassificationOptionsModified=HS&selectValuePeriodsModified=2009&selectValueReportersModified=276&selectValuePartnersModified=all&selectValueTradeflowsModified=m&selectValueCommodityCodesModified=280540&selectValueCustomsCodesModified=c00&selectValueTransportCodesModified=0&selectValueSecondPartnersModified=0&selectValueAggregateByModified=none&selectValueBreakdownModeModified=plus&selectValueincludeDescModified=True&selectValuecountOnlyModified=False (Caused by NewConnectionError('<urllib3.connection.HTTPSConnection object at 0x00000261798B5A08>: Failed to establish a new connection: [WinError 10060] Se produjo un error durante el intento de conexión ya que la parte conectada no respondió adecuadamente tras un periodo de tiempo, o bien se produjo un error en la conexión establecida ya que el host conectado no ha podido responder'))\n",
      "[ERROR][2009][2613] Request: ('Connection aborted.', ConnectionResetError(10054, 'Se ha forzado la interrupción de una conexión existente por el host remoto', None, 10054, None))\n",
      "[ERROR][2012][2610] Request: HTTPSConnectionPool(host='comtradeplus.un.org', port=443): Max retries exceeded with url: /api/Trade/getTrade?selectedProductOptionsModified=C&selectedFrequencyOptionsModified=A&selectedClassificationOptionsModified=HS&selectValuePeriodsModified=2012&selectValueReportersModified=276&selectValuePartnersModified=all&selectValueTradeflowsModified=m&selectValueCommodityCodesModified=2610&selectValueCustomsCodesModified=c00&selectValueTransportCodesModified=0&selectValueSecondPartnersModified=0&selectValueAggregateByModified=none&selectValueBreakdownModeModified=plus&selectValueincludeDescModified=True&selectValuecountOnlyModified=False (Caused by NewConnectionError('<urllib3.connection.HTTPSConnection object at 0x000002617989E748>: Failed to establish a new connection: [WinError 10060] Se produjo un error durante el intento de conexión ya que la parte conectada no respondió adecuadamente tras un periodo de tiempo, o bien se produjo un error en la conexión establecida ya que el host conectado no ha podido responder'))\n",
      "[ERROR][2013][283691] Request: ('Connection aborted.', ConnectionResetError(10054, 'Se ha forzado la interrupción de una conexión existente por el host remoto', None, 10054, None))\n",
      "[ERROR][2014][2607] Request: ('Connection aborted.', ConnectionResetError(10054, 'Se ha forzado la interrupción de una conexión existente por el host remoto', None, 10054, None))\n",
      "[ERROR][2016][7108] Request: ('Connection aborted.', ConnectionResetError(10054, 'Se ha forzado la interrupción de una conexión existente por el host remoto', None, 10054, None))\n",
      "[ERROR][2001][8107] Request: ('Connection aborted.', ConnectionResetError(10054, 'Se ha forzado la interrupción de una conexión existente por el host remoto', None, 10054, None))\n",
      "[ERROR][2001][271111] Request: ('Connection aborted.', ConnectionResetError(10054, 'Se ha forzado la interrupción de una conexión existente por el host remoto', None, 10054, None))\n",
      "[ERROR][2002][8107] Request: HTTPSConnectionPool(host='comtradeplus.un.org', port=443): Max retries exceeded with url: /api/Trade/getTrade?selectedProductOptionsModified=C&selectedFrequencyOptionsModified=A&selectedClassificationOptionsModified=HS&selectValuePeriodsModified=2002&selectValueReportersModified=320&selectValuePartnersModified=all&selectValueTradeflowsModified=m&selectValueCommodityCodesModified=8107&selectValueCustomsCodesModified=c00&selectValueTransportCodesModified=0&selectValueSecondPartnersModified=0&selectValueAggregateByModified=none&selectValueBreakdownModeModified=plus&selectValueincludeDescModified=True&selectValuecountOnlyModified=False (Caused by NewConnectionError('<urllib3.connection.HTTPSConnection object at 0x00000261798C9D88>: Failed to establish a new connection: [WinError 10060] Se produjo un error durante el intento de conexión ya que la parte conectada no respondió adecuadamente tras un periodo de tiempo, o bien se produjo un error en la conexión establecida ya que el host conectado no ha podido responder'))\n",
      "[ERROR][2002][2610] Request: HTTPSConnectionPool(host='comtradeplus.un.org', port=443): Max retries exceeded with url: /api/Trade/getTrade?selectedProductOptionsModified=C&selectedFrequencyOptionsModified=A&selectedClassificationOptionsModified=HS&selectValuePeriodsModified=2002&selectValueReportersModified=320&selectValuePartnersModified=all&selectValueTradeflowsModified=m&selectValueCommodityCodesModified=2610&selectValueCustomsCodesModified=c00&selectValueTransportCodesModified=0&selectValueSecondPartnersModified=0&selectValueAggregateByModified=none&selectValueBreakdownModeModified=plus&selectValueincludeDescModified=True&selectValuecountOnlyModified=False (Caused by NewConnectionError('<urllib3.connection.HTTPSConnection object at 0x00000261798DBC08>: Failed to establish a new connection: [WinError 10060] Se produjo un error durante el intento de conexión ya que la parte conectada no respondió adecuadamente tras un periodo de tiempo, o bien se produjo un error en la conexión establecida ya que el host conectado no ha podido responder'))\n",
      "[ERROR][2003][283691] Request: ('Connection aborted.', ConnectionAbortedError(10053, 'Se ha anulado una conexión establecida por el software en su equipo host', None, 10053, None))\n",
      "[ERROR][2003][251910] Request: HTTPSConnectionPool(host='comtradeplus.un.org', port=443): Max retries exceeded with url: /api/Trade/getTrade?selectedProductOptionsModified=C&selectedFrequencyOptionsModified=A&selectedClassificationOptionsModified=HS&selectValuePeriodsModified=2003&selectValueReportersModified=320&selectValuePartnersModified=all&selectValueTradeflowsModified=m&selectValueCommodityCodesModified=251910&selectValueCustomsCodesModified=c00&selectValueTransportCodesModified=0&selectValueSecondPartnersModified=0&selectValueAggregateByModified=none&selectValueBreakdownModeModified=plus&selectValueincludeDescModified=True&selectValuecountOnlyModified=False (Caused by NewConnectionError('<urllib3.connection.HTTPSConnection object at 0x00000261798A9688>: Failed to establish a new connection: [Errno 11001] getaddrinfo failed'))\n",
      "[ERROR][2005][2524] Request: 'data'\n",
      "[ERROR][2005][2701] Request: 'data'\n",
      "[ERROR][2009][2504] Request: 'data'\n",
      "[ERROR][2014][2604] Request: 'data'\n",
      "[ERROR][2014][261510] Request: 'data'\n",
      "[ERROR][2005][8106] Request: Expecting value: line 1 column 1 (char 0)\n",
      "[ERROR][2009][2603] Request: 'data'\n",
      "[ERROR][2000][8107] Request: 'data'\n",
      "[ERROR][2000][810520] Request: 'data'\n",
      "[ERROR][2000][2504] Request: 'data'\n"
     ]
    }
   ],
   "source": [
    "# Lista de elementos de interés\n",
    "\n",
    "\n",
    "\n",
    "for country in countries_list:\n",
    "    for year in years:\n",
    "        for commodity, commodity_code in classification_codes.items():            \n",
    "            url = f\"https://comtradeplus.un.org/api/Trade/getTrade?\" \\\n",
    "                f\"selectedProductOptionsModified=C&\" \\\n",
    "                f\"selectedFrequencyOptionsModified=A&\" \\\n",
    "                f\"selectedClassificationOptionsModified=HS&\" \\\n",
    "                f\"selectValuePeriodsModified={year}&\" \\\n",
    "                f\"selectValueReportersModified={country['reporterCode']}&\" \\\n",
    "                f\"selectValuePartnersModified=all&\" \\\n",
    "                f\"selectValueTradeflowsModified=m&\" \\\n",
    "                f\"selectValueCommodityCodesModified={commodity_code}&\" \\\n",
    "                f\"selectValueCustomsCodesModified=c00&\" \\\n",
    "                f\"selectValueTransportCodesModified=0&\" \\\n",
    "                f\"selectValueSecondPartnersModified=0&\" \\\n",
    "                f\"selectValueAggregateByModified=none&\" \\\n",
    "                f\"selectValueBreakdownModeModified=plus&\" \\\n",
    "                f\"selectValueincludeDescModified=True&\" \\\n",
    "                f\"selectValuecountOnlyModified=False\"\n",
    "\n",
    "\n",
    "            payload={}\n",
    "            headers = {\n",
    "                'Accept': 'application/json, text/plain, */*',\n",
    "                'Referer': f'https://comtradeplus.un.org/TradeFlow?Frequency=A&Flows=X&CommodityCodes={commodity_code}&Partners=0&Reporters=all&period={year}&AggregateBy=none&BreakdownMode=plus'\n",
    "            }\n",
    "\n",
    "            try:\n",
    "                response = requests.get(url=url, headers=headers, data=payload)\n",
    "                json = response.json()\n",
    "                pd.json_normalize(json[\"data\"]).to_csv(f\"../../data/imports/imports_{year}_{commodity}_{country['reporterDesc']}.csv\", index=False)\n",
    "            except Exception as e:\n",
    "                print(f\"[ERROR][{year}][{commodity_code}] Request: {e}\")\n",
    "\n",
    "            time.sleep(5)\n",
    "            "
   ]
  },
  {
   "cell_type": "markdown",
   "metadata": {},
   "source": [
    "## Let's union them into a only one file"
   ]
  },
  {
   "cell_type": "code",
   "execution_count": 48,
   "metadata": {},
   "outputs": [
    {
     "name": "stdout",
     "output_type": "stream",
     "text": [
      "====================================================================================================\n",
      "[ERROR][UNION] An issue happened for file: exports_2000_COBALT.csv\n",
      "====================================================================================================\n",
      "[ERROR][UNION] An issue happened for file: exports_2000_LITHIUM-ION BATTERIES.csv\n",
      "====================================================================================================\n",
      "[ERROR][UNION] An issue happened for file: exports_2001_COBALT.csv\n",
      "====================================================================================================\n",
      "[ERROR][UNION] An issue happened for file: exports_2001_LITHIUM-ION BATTERIES.csv\n",
      "====================================================================================================\n",
      "[ERROR][UNION] An issue happened for file: exports_2002_LITHIUM-ION BATTERIES.csv\n",
      "====================================================================================================\n",
      "[ERROR][UNION] An issue happened for file: exports_2003_LITHIUM-ION BATTERIES.csv\n",
      "====================================================================================================\n",
      "[ERROR][UNION] An issue happened for file: exports_2004_LITHIUM-ION BATTERIES.csv\n",
      "====================================================================================================\n",
      "[ERROR][UNION] An issue happened for file: exports_2005_LITHIUM-ION BATTERIES.csv\n",
      "====================================================================================================\n",
      "[ERROR][UNION] An issue happened for file: exports_2006_LITHIUM-ION BATTERIES.csv\n",
      "====================================================================================================\n",
      "[ERROR][UNION] An issue happened for file: exports_2007_LITHIUM-ION BATTERIES.csv\n",
      "====================================================================================================\n",
      "[ERROR][UNION] An issue happened for file: exports_2008_LITHIUM-ION BATTERIES.csv\n",
      "====================================================================================================\n",
      "[ERROR][UNION] An issue happened for file: exports_2009_LITHIUM-ION BATTERIES.csv\n",
      "====================================================================================================\n",
      "[ERROR][UNION] An issue happened for file: exports_2010_LITHIUM-ION BATTERIES.csv\n",
      "====================================================================================================\n",
      "[ERROR][UNION] An issue happened for file: exports_2011_LITHIUM-ION BATTERIES.csv\n"
     ]
    }
   ],
   "source": [
    "list_files = os.listdir(\"../../data/exports\")\n",
    "# Take 1st CSV as reference and then attach the rest of files\n",
    "df_exports = pd.read_csv(f\"../../data/exports/{list_files[0]}\")\n",
    "df_exports[\"Product\"] = classification_codes_inverted[df_exports.iloc[0][\"cmdCode\"]] # Create a product column\n",
    "\n",
    "for file in list_files[1:]:\n",
    "    if file == \"exports_consolidated_file.csv\":\n",
    "        continue\n",
    "    try:\n",
    "        df_tmp = pd.read_csv(f\"../../data/exports/{file}\")\n",
    "        df_tmp[\"Product\"] = classification_codes_inverted[df_tmp.iloc[0][\"cmdCode\"]] # Create a product column\n",
    "        df_exports = pd.concat([df_exports, df_tmp], ignore_index=True)        \n",
    "    except Exception as e:\n",
    "        print(\"=\" * 100)\n",
    "        print(f\"[ERROR][UNION] An issue happened for file: {file}\")\n",
    "\n",
    "# Save consolidated dataframe into a CSV\n",
    "df_exports.to_csv(\"../../data/exports/exports_consolidated_file.csv\", index=False)"
   ]
  }
 ],
 "metadata": {
  "interpreter": {
   "hash": "def6f7ac2ba83f4f4ced762f8593a1a94d104972fa1d0daa5b128b7955940ce7"
  },
  "kernelspec": {
   "display_name": "Python 3.7.4 64-bit ('rb_venv3715': venv)",
   "language": "python",
   "name": "python3"
  },
  "language_info": {
   "codemirror_mode": {
    "name": "ipython",
    "version": 3
   },
   "file_extension": ".py",
   "mimetype": "text/x-python",
   "name": "python",
   "nbconvert_exporter": "python",
   "pygments_lexer": "ipython3",
   "version": "3.7.4"
  },
  "orig_nbformat": 4
 },
 "nbformat": 4,
 "nbformat_minor": 2
}
