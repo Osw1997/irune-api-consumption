{
 "cells": [
  {
   "cell_type": "code",
   "execution_count": 2,
   "metadata": {},
   "outputs": [],
   "source": [
    "import pandas as pd"
   ]
  },
  {
   "cell_type": "code",
   "execution_count": 2,
   "metadata": {},
   "outputs": [],
   "source": [
    "# Let's convert pivot table into a reguilar table for all the interesting indicators\n",
    "\n",
    "filenames = [\n",
    "    \"ecosystems.csv\", \"habitat.csv\", \"infrastructure.csv\"   # Vulnerability\n",
    "    \"economic.csv\", \"governance.csv\", \"social.csv\"          # Readingess\n",
    "    ]"
   ]
  },
  {
   "cell_type": "code",
   "execution_count": 35,
   "metadata": {},
   "outputs": [],
   "source": [
    "filename = \"ecosystems.csv\"\n",
    "df = pd.read_csv(f\"../../data/resources/vulnerability/{filename}\")\n"
   ]
  },
  {
   "cell_type": "code",
   "execution_count": 22,
   "metadata": {},
   "outputs": [],
   "source": [
    "melted_df = df.melt(\n",
    "    id_vars=[\"ISO3\", \"Name\"],\n",
    "    var_name=\"Year\",\n",
    "    value_name=\"value\"\n",
    ")"
   ]
  },
  {
   "cell_type": "code",
   "execution_count": 24,
   "metadata": {},
   "outputs": [],
   "source": [
    "melted_df[\"no_value_ecosystem\"] = melted_df[\"value\"].isna()"
   ]
  },
  {
   "cell_type": "code",
   "execution_count": 37,
   "metadata": {},
   "outputs": [],
   "source": [
    "# Get mean by year and replace nan values by mean\n",
    "mean_df = melted_df.groupby([\"Year\"])[[\"value\"]].mean().reset_index()\n",
    "mean_df.rename(columns={\"value\": \"mean\"}, inplace=True)\n",
    "final_df = pd.merge(melted_df, mean_df, how=\"left\", on=\"Year\")\n",
    "final_df.loc[final_df[\"value\"].isna(), \"value\"] = final_df[\"mean\"]\n",
    "del final_df[\"mean\"]\n",
    "# Save result to CSV\n",
    "melted_filename = f\"melted_{filename}\"\n",
    "final_df.to_csv(f\"../../data/resources/vulnerability/{melted_filename}\", index=False)\n"
   ]
  },
  {
   "cell_type": "markdown",
   "metadata": {},
   "source": [
    "## EXTRA: Let's convert governance csv"
   ]
  },
  {
   "cell_type": "code",
   "execution_count": 14,
   "metadata": {},
   "outputs": [],
   "source": [
    "filename = \"raw.csv\"\n",
    "df = pd.read_csv(f\"../../data/resources/indicators/id_gove_01/{filename}\")"
   ]
  },
  {
   "cell_type": "code",
   "execution_count": 15,
   "metadata": {},
   "outputs": [],
   "source": [
    "column_value = \"value_governance_isolated\"\n",
    "melted_df = df.melt(\n",
    "    id_vars=[\"ISO3\", \"Name\"],\n",
    "    var_name=\"Year\",\n",
    "    value_name=column_value\n",
    ")\n",
    "\n",
    "\n",
    "# Create a flag that indicates if value is real or mean\n",
    "melted_df[f\"no_{column_value}\"] = melted_df[column_value].isna()\n",
    "# Get mean by year and replace nan values by mean\n",
    "mean_df = melted_df.groupby([\"Year\"])[[column_value]].mean().reset_index()\n",
    "mean_df.rename(columns={column_value: \"mean\"}, inplace=True)\n",
    "final_df = pd.merge(melted_df, mean_df, how=\"left\", on=\"Year\")\n",
    "final_df.loc[final_df[column_value].isna(), column_value] = final_df[\"mean\"]\n",
    "del final_df[\"mean\"]\n",
    "# Save result to CSV\n",
    "melted_filename = \"melted_governance.csv\"\n",
    "final_df.to_csv(f\"../../data/resources/indicators/id_gove_01/{melted_filename}\", index=False)"
   ]
  },
  {
   "cell_type": "markdown",
   "metadata": {},
   "source": [
    "## EXTRA: Let's convert governance csv but from raw and normalized"
   ]
  },
  {
   "cell_type": "code",
   "execution_count": null,
   "metadata": {},
   "outputs": [],
   "source": [
    "filename = \"raw.csv\"\n",
    "df = pd.read_csv(f\"../../data/resources/indicators/id_gove_01/{filename}\")"
   ]
  }
 ],
 "metadata": {
  "interpreter": {
   "hash": "def6f7ac2ba83f4f4ced762f8593a1a94d104972fa1d0daa5b128b7955940ce7"
  },
  "kernelspec": {
   "display_name": "Python 3.7.4 64-bit ('rb_venv3715': venv)",
   "language": "python",
   "name": "python3"
  },
  "language_info": {
   "codemirror_mode": {
    "name": "ipython",
    "version": 3
   },
   "file_extension": ".py",
   "mimetype": "text/x-python",
   "name": "python",
   "nbconvert_exporter": "python",
   "pygments_lexer": "ipython3",
   "version": "3.7.4"
  },
  "orig_nbformat": 4
 },
 "nbformat": 4,
 "nbformat_minor": 2
}
